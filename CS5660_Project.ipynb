{
  "nbformat": 4,
  "nbformat_minor": 0,
  "metadata": {
    "colab": {
      "provenance": [],
      "authorship_tag": "ABX9TyOTZhjjEnqG9FbsjAEYAhBZ",
      "include_colab_link": true
    },
    "kernelspec": {
      "name": "python3",
      "display_name": "Python 3"
    },
    "language_info": {
      "name": "python"
    }
  },
  "cells": [
    {
      "cell_type": "markdown",
      "metadata": {
        "id": "view-in-github",
        "colab_type": "text"
      },
      "source": [
        "<a href=\"https://colab.research.google.com/github/narendra-mds/CS5660/blob/main/CS5660_Project.ipynb\" target=\"_parent\"><img src=\"https://colab.research.google.com/assets/colab-badge.svg\" alt=\"Open In Colab\"/></a>"
      ]
    },
    {
      "cell_type": "code",
      "execution_count": 23,
      "metadata": {
        "id": "60PqjLOMRJnB"
      },
      "outputs": [],
      "source": [
        "import numpy as np\n",
        "import tarfile\n",
        "import os"
      ]
    },
    {
      "cell_type": "code",
      "source": [
        "current_directory = os.getcwd()\n",
        "\n",
        "print(\"Current working directory:\", current_directory)"
      ],
      "metadata": {
        "colab": {
          "base_uri": "https://localhost:8080/"
        },
        "id": "Da1w1r__Up-j",
        "outputId": "35cd114f-8591-4f59-de09-783a7612b2e7"
      },
      "execution_count": 24,
      "outputs": [
        {
          "output_type": "stream",
          "name": "stdout",
          "text": [
            "Current working directory: /content\n"
          ]
        }
      ]
    },
    {
      "cell_type": "code",
      "source": [
        "def load_fvecs_from_tar(tar_filename, fvecs_filename):\n",
        "    with tarfile.open(tar_filename, 'r') as tar:\n",
        "        # Extract the fvecs file from the tar archive\n",
        "        fvecs_file = tar.extractfile(fvecs_filename)\n",
        "        with fvecs_file as f:\n",
        "          fv = np.frombuffer(f.read(), dtype=np.float32)\n",
        "          if fv.size == 0:\n",
        "            return np.zeros((0, 0))\n",
        "        dim = fv.view(np.int32)[0]\n",
        "        fv = fv.reshape(-1, 1 + dim)\n",
        "        if not all(fv.view(np.int32)[:, 0] == dim):\n",
        "          raise IOError(\"Non-uniform vector sizes in \" + fvecs_file)\n",
        "        fv = fv[:, 1:]\n",
        "        fv = fv.copy()\n",
        "    return fv"
      ],
      "metadata": {
        "id": "D0Jiou6ZSjRN"
      },
      "execution_count": 53,
      "outputs": []
    },
    {
      "cell_type": "code",
      "source": [
        "def load_ivecs_from_tar(tar_filename, ivecs_filename):\n",
        "    with tarfile.open(tar_filename, 'r') as tar:\n",
        "        # Extract the ivecs file from the tar archive\n",
        "        ivecs_file = tar.extractfile(ivecs_filename)\n",
        "        with ivecs_file as f:\n",
        "          a = np.frombuffer(f.read(), dtype='int32')\n",
        "    d = a[0]\n",
        "    return a.reshape(-1, d + 1)[:, 1:].copy().reshape(-1)"
      ],
      "metadata": {
        "id": "2if0T-jKTKvN"
      },
      "execution_count": 58,
      "outputs": []
    },
    {
      "cell_type": "code",
      "source": [
        "tar_file = 'groupFungus_k64_nclass10_nex10.tgz'\n",
        "folder = 'example_data'\n",
        "fvecs_filename_images = os.path.join(folder, 'groupFungus_k64_nclass10_nex10_Xtrain.fvecs')\n",
        "ivecs_filename_labels = os.path.join(folder, 'groupFungus_k64_nclass10_nex10_Ltrain.ivecs')"
      ],
      "metadata": {
        "id": "O4uKMTvbTXgx"
      },
      "execution_count": 54,
      "outputs": []
    },
    {
      "cell_type": "markdown",
      "source": [],
      "metadata": {
        "id": "-IZav8k6WHos"
      }
    },
    {
      "cell_type": "code",
      "source": [
        "image_features = load_fvecs_from_tar(tar_file, fvecs_filename_images)"
      ],
      "metadata": {
        "id": "fDbH_mEZT67m"
      },
      "execution_count": 55,
      "outputs": []
    },
    {
      "cell_type": "code",
      "source": [
        "image_features.shape"
      ],
      "metadata": {
        "colab": {
          "base_uri": "https://localhost:8080/"
        },
        "id": "J2dbYiJHcNGD",
        "outputId": "a6b1bd99-77f3-49c9-8295-3acb76b03d5c"
      },
      "execution_count": 57,
      "outputs": [
        {
          "output_type": "execute_result",
          "data": {
            "text/plain": [
              "(100, 4096)"
            ]
          },
          "metadata": {},
          "execution_count": 57
        }
      ]
    },
    {
      "cell_type": "code",
      "source": [
        "image_labels = load_ivecs_from_tar(tar_file, ivecs_filename_labels)"
      ],
      "metadata": {
        "id": "GwjaAyQocj-4"
      },
      "execution_count": 59,
      "outputs": []
    },
    {
      "cell_type": "code",
      "source": [
        "image_labels.shape"
      ],
      "metadata": {
        "colab": {
          "base_uri": "https://localhost:8080/"
        },
        "id": "7wkQu1BQcxA3",
        "outputId": "359b81b5-ee4a-41e1-cdb1-65ab1359ccb4"
      },
      "execution_count": 60,
      "outputs": [
        {
          "output_type": "execute_result",
          "data": {
            "text/plain": [
              "(100,)"
            ]
          },
          "metadata": {},
          "execution_count": 60
        }
      ]
    },
    {
      "cell_type": "markdown",
      "source": [],
      "metadata": {
        "id": "xB11GPXpcvS3"
      }
    }
  ]
}