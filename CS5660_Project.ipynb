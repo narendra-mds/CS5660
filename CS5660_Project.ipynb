{
  "nbformat": 4,
  "nbformat_minor": 0,
  "metadata": {
    "colab": {
      "provenance": [],
      "authorship_tag": "ABX9TyOtoOEW6L2a63R9rMYajNhy",
      "include_colab_link": true
    },
    "kernelspec": {
      "name": "python3",
      "display_name": "Python 3"
    },
    "language_info": {
      "name": "python"
    }
  },
  "cells": [
    {
      "cell_type": "markdown",
      "metadata": {
        "id": "view-in-github",
        "colab_type": "text"
      },
      "source": [
        "<a href=\"https://colab.research.google.com/github/narendra-mds/CS5660/blob/main/CS5660_Project.ipynb\" target=\"_parent\"><img src=\"https://colab.research.google.com/assets/colab-badge.svg\" alt=\"Open In Colab\"/></a>"
      ]
    },
    {
      "cell_type": "code",
      "execution_count": 1,
      "metadata": {
        "id": "60PqjLOMRJnB"
      },
      "outputs": [],
      "source": [
        "import numpy as np\n",
        "import tarfile\n",
        "import os\n",
        "from sklearn.preprocessing import OneHotEncoder"
      ]
    },
    {
      "cell_type": "code",
      "source": [
        "current_directory = os.getcwd()\n",
        "\n",
        "print(\"Current working directory:\", current_directory)"
      ],
      "metadata": {
        "colab": {
          "base_uri": "https://localhost:8080/"
        },
        "id": "Da1w1r__Up-j",
        "outputId": "e709062f-761a-44dd-f221-d15e96f7f0fa"
      },
      "execution_count": 2,
      "outputs": [
        {
          "output_type": "stream",
          "name": "stdout",
          "text": [
            "Current working directory: /content\n"
          ]
        }
      ]
    },
    {
      "cell_type": "code",
      "source": [
        "def load_fvecs_from_tar(tar_filename, fvecs_filename):\n",
        "    with tarfile.open(tar_filename, 'r') as tar:\n",
        "        # Extract the fvecs file from the tar archive\n",
        "        fvecs_file = tar.extractfile(fvecs_filename)\n",
        "        with fvecs_file as f:\n",
        "          fv = np.frombuffer(f.read(), dtype=np.float32)\n",
        "          if fv.size == 0:\n",
        "            return np.zeros((0, 0))\n",
        "        dim = fv.view(np.int32)[0]\n",
        "        fv = fv.reshape(-1, 1 + dim)\n",
        "        if not all(fv.view(np.int32)[:, 0] == dim):\n",
        "          raise IOError(\"Non-uniform vector sizes in \" + fvecs_file)\n",
        "        fv = fv[:, 1:]\n",
        "        fv = fv.copy()\n",
        "    return fv"
      ],
      "metadata": {
        "id": "D0Jiou6ZSjRN"
      },
      "execution_count": 3,
      "outputs": []
    },
    {
      "cell_type": "code",
      "source": [
        "def load_ivecs_from_tar(tar_filename, ivecs_filename):\n",
        "    with tarfile.open(tar_filename, 'r') as tar:\n",
        "        # Extract the ivecs file from the tar archive\n",
        "        ivecs_file = tar.extractfile(ivecs_filename)\n",
        "        with ivecs_file as f:\n",
        "          a = np.frombuffer(f.read(), dtype='int32')\n",
        "    d = a[0]\n",
        "    return a.reshape(-1, d + 1)[:, 1:].copy().reshape(-1)"
      ],
      "metadata": {
        "id": "2if0T-jKTKvN"
      },
      "execution_count": 4,
      "outputs": []
    },
    {
      "cell_type": "markdown",
      "source": [
        "## Read the Images and Labels"
      ],
      "metadata": {
        "id": "-IZav8k6WHos"
      }
    },
    {
      "cell_type": "markdown",
      "source": [
        "Note that the compressed .tgz file is uploaded to session data i.e. in \\content"
      ],
      "metadata": {
        "id": "Owud8dVtgWWC"
      }
    },
    {
      "cell_type": "code",
      "source": [
        "tar_file = 'groupFungus_k64_nclass10_nex10.tgz'\n",
        "folder = 'example_data'\n",
        "fungus10_train_images = os.path.join(folder, 'groupFungus_k64_nclass10_nex10_Xtrain.fvecs')\n",
        "fungus10_train_labels = os.path.join(folder, 'groupFungus_k64_nclass10_nex10_Ltrain.ivecs')"
      ],
      "metadata": {
        "id": "O4uKMTvbTXgx"
      },
      "execution_count": 5,
      "outputs": []
    },
    {
      "cell_type": "code",
      "source": [
        "fungus10_test_images = os.path.join(folder, 'groupFungus_k64_nclass10_nex10_Xtest.fvecs')\n",
        "fungus10_test_labels = os.path.join(folder, 'groupFungus_k64_nclass10_nex10_Ltest.ivecs')"
      ],
      "metadata": {
        "id": "kvrWLcx3fiL8"
      },
      "execution_count": 6,
      "outputs": []
    },
    {
      "cell_type": "code",
      "source": [
        "fungus10_train_images_features = load_fvecs_from_tar(tar_file, fungus10_train_images)\n",
        "fungus10_test_images_features = load_fvecs_from_tar(tar_file, fungus10_test_images)"
      ],
      "metadata": {
        "id": "fDbH_mEZT67m"
      },
      "execution_count": 7,
      "outputs": []
    },
    {
      "cell_type": "code",
      "source": [
        "fungus10_train_images_features.shape, fungus10_test_images_features.shape"
      ],
      "metadata": {
        "colab": {
          "base_uri": "https://localhost:8080/"
        },
        "id": "J2dbYiJHcNGD",
        "outputId": "30815ea7-2474-4821-d3f2-f463e91b8562"
      },
      "execution_count": 8,
      "outputs": [
        {
          "output_type": "execute_result",
          "data": {
            "text/plain": [
              "((100, 4096), (100, 4096))"
            ]
          },
          "metadata": {},
          "execution_count": 8
        }
      ]
    },
    {
      "cell_type": "code",
      "source": [
        "fungus10_train_images_labels = load_ivecs_from_tar(tar_file, fungus10_train_labels)\n",
        "fungus10_test_images_labels = load_ivecs_from_tar(tar_file, fungus10_test_labels)"
      ],
      "metadata": {
        "id": "GwjaAyQocj-4"
      },
      "execution_count": 9,
      "outputs": []
    },
    {
      "cell_type": "code",
      "source": [
        "fungus10_train_images_labels.shape, fungus10_test_images_labels.shape"
      ],
      "metadata": {
        "colab": {
          "base_uri": "https://localhost:8080/"
        },
        "id": "7wkQu1BQcxA3",
        "outputId": "e6d67a6c-36f0-4ee0-860a-9db5bcb142d2"
      },
      "execution_count": 10,
      "outputs": [
        {
          "output_type": "execute_result",
          "data": {
            "text/plain": [
              "((100,), (100,))"
            ]
          },
          "metadata": {},
          "execution_count": 10
        }
      ]
    },
    {
      "cell_type": "markdown",
      "source": [
        "## Build a Linear model as described in the paper"
      ],
      "metadata": {
        "id": "xB11GPXpcvS3"
      }
    },
    {
      "cell_type": "markdown",
      "source": [
        "First create a one hot encoded array for true values"
      ],
      "metadata": {
        "id": "m5ChoCs03Fui"
      }
    },
    {
      "cell_type": "code",
      "source": [
        "# define one hot encoding\n",
        "encoder = OneHotEncoder(sparse_output=False)\n",
        "# transform data\n",
        "y_train_true = encoder.fit_transform(fungus10_train_images_labels.reshape(100,1))\n",
        "print(y_train_true[0])"
      ],
      "metadata": {
        "id": "91Kios_0uNIK",
        "colab": {
          "base_uri": "https://localhost:8080/"
        },
        "outputId": "25425b95-5784-4d4c-89cd-b3579a0e0c64"
      },
      "execution_count": 21,
      "outputs": [
        {
          "output_type": "stream",
          "name": "stdout",
          "text": [
            "[1. 0. 0. 0. 0. 0. 0. 0. 0. 0.]\n"
          ]
        }
      ]
    },
    {
      "cell_type": "markdown",
      "source": [
        "Now build X matrix and Weight matrix based on dimensions of the data"
      ],
      "metadata": {
        "id": "PbGI42h93LON"
      }
    },
    {
      "cell_type": "code",
      "source": [
        "X_train = fungus10_train_images_features"
      ],
      "metadata": {
        "id": "Pu1AWfLAdyB1"
      },
      "execution_count": 32,
      "outputs": []
    },
    {
      "cell_type": "code",
      "source": [
        "X_train.shape"
      ],
      "metadata": {
        "colab": {
          "base_uri": "https://localhost:8080/"
        },
        "id": "yLXDvgNN5KZ1",
        "outputId": "76897878-f9e8-416b-81cf-e8becfc73fbf"
      },
      "execution_count": 33,
      "outputs": [
        {
          "output_type": "execute_result",
          "data": {
            "text/plain": [
              "(100, 4096)"
            ]
          },
          "metadata": {},
          "execution_count": 33
        }
      ]
    },
    {
      "cell_type": "markdown",
      "source": [
        "Weight matrix would have:\n",
        "\n",
        "\n",
        "*   rows = no. of features\n",
        "*   columns = no. of classes"
      ],
      "metadata": {
        "id": "iB8vVaSp3Yqf"
      }
    },
    {
      "cell_type": "code",
      "source": [
        "np.random.seed(5660)\n",
        "_,m = fungus10_train_images_features.shape\n",
        "n = len(set(fungus10_train_images_labels))\n",
        "W = np.random.uniform(low=-1, high=1, size=(m, n))\n",
        "b = np.random.uniform(low=-1, high=1, size=(1, n))"
      ],
      "metadata": {
        "id": "H52bKyLS3YBH"
      },
      "execution_count": 40,
      "outputs": []
    },
    {
      "cell_type": "code",
      "source": [
        "W.shape"
      ],
      "metadata": {
        "colab": {
          "base_uri": "https://localhost:8080/"
        },
        "id": "acfQJHOO5R05",
        "outputId": "07678c5e-4a33-4d0f-c6dc-520ba4ca6f49"
      },
      "execution_count": 41,
      "outputs": [
        {
          "output_type": "execute_result",
          "data": {
            "text/plain": [
              "(4096, 10)"
            ]
          },
          "metadata": {},
          "execution_count": 41
        }
      ]
    },
    {
      "cell_type": "markdown",
      "source": [
        "Initial set of weights"
      ],
      "metadata": {
        "id": "xWwqOpN14W3Z"
      }
    },
    {
      "cell_type": "code",
      "source": [
        "print(W[:2])"
      ],
      "metadata": {
        "colab": {
          "base_uri": "https://localhost:8080/"
        },
        "id": "yu2XdYmp4ZPO",
        "outputId": "6cbc8290-5f08-4711-90a8-787e76fad4cf"
      },
      "execution_count": 42,
      "outputs": [
        {
          "output_type": "stream",
          "name": "stdout",
          "text": [
            "[[ 0.44140127  0.4690655  -0.73259887 -0.05906308 -0.53820052  0.8147641\n",
            "  -0.29529803 -0.04197371 -0.93145758  0.22377421]\n",
            " [ 0.92699897  0.97547102  0.64151833 -0.70370343 -0.62292231 -0.03680328\n",
            "   0.6366819   0.89381421  0.26542717  0.27011698]]\n"
          ]
        }
      ]
    },
    {
      "cell_type": "code",
      "source": [
        "print(b)"
      ],
      "metadata": {
        "colab": {
          "base_uri": "https://localhost:8080/"
        },
        "id": "cobE_KDh4gdB",
        "outputId": "bc107470-a16e-4df2-b2ed-59ea21ec9b7e"
      },
      "execution_count": 43,
      "outputs": [
        {
          "output_type": "stream",
          "name": "stdout",
          "text": [
            "[[ 0.56534233  0.93943885  0.91182578 -0.06911842 -0.09695704  0.69054724\n",
            "  -0.8612357  -0.32716141 -0.48437092 -0.82968288]]\n"
          ]
        }
      ]
    },
    {
      "cell_type": "markdown",
      "source": [
        "We multiply X (100,4096) with W(4096,10) and add b\n"
      ],
      "metadata": {
        "id": "O7aLlINa47s1"
      }
    },
    {
      "cell_type": "code",
      "source": [
        "def net_input(X, W, b):\n",
        "    return (X.dot(W) + b)\n",
        "\n",
        "net_in = net_input(X_train, W, b)\n",
        "print(f'net input shape:\\n {net_in.shape}')\n",
        "print(f'net input:\\n {net_in[:2]}')"
      ],
      "metadata": {
        "colab": {
          "base_uri": "https://localhost:8080/"
        },
        "id": "FqkhH2JI43LX",
        "outputId": "6765dd6e-4841-4cf3-f9ac-194c641f2611"
      },
      "execution_count": 44,
      "outputs": [
        {
          "output_type": "stream",
          "name": "stdout",
          "text": [
            "net input shape:\n",
            " (100, 10)\n",
            "net input:\n",
            " [[ 0.6954171   0.77256549  0.18707491 -0.08701527  0.17142897  0.9085162\n",
            "  -0.27257828 -0.1387958   0.57632682 -0.92504999]\n",
            " [ 0.30649441  0.82180241  0.71058519  0.39058976 -0.93494618  0.8043387\n",
            "   0.41005151 -0.31011337  0.16902247 -1.34038849]]\n"
          ]
        }
      ]
    },
    {
      "cell_type": "code",
      "source": [
        "def softmax(z):\n",
        "    return (np.exp(z.T) / np.sum(np.exp(z), axis=1)).T\n",
        "\n",
        "smax = softmax(net_in)\n",
        "print(f'softmax:\\n {smax[:2]}')"
      ],
      "metadata": {
        "colab": {
          "base_uri": "https://localhost:8080/"
        },
        "id": "-OZ8IpIo7mUj",
        "outputId": "2bb7e6ed-052c-4b84-d35a-7b95f1e3897d"
      },
      "execution_count": 46,
      "outputs": [
        {
          "output_type": "stream",
          "name": "stdout",
          "text": [
            "softmax:\n",
            " [[0.14559767 0.15727494 0.08757582 0.0665807  0.08621628 0.18017817\n",
            "  0.05530436 0.06322085 0.12925108 0.02880013]\n",
            " [0.10093817 0.16898605 0.15119931 0.10979374 0.02916786 0.16606054\n",
            "  0.11195145 0.05448363 0.08797355 0.01944569]]\n"
          ]
        }
      ]
    },
    {
      "cell_type": "markdown",
      "source": [
        "To get class labels from Probabilities"
      ],
      "metadata": {
        "id": "RpPUhzah75P8"
      }
    },
    {
      "cell_type": "code",
      "source": [
        "def to_classlabel(z):\n",
        "    return z.argmax(axis=1)\n",
        "\n",
        "print(f'predicted class labels:  {to_classlabel(smax)}')"
      ],
      "metadata": {
        "colab": {
          "base_uri": "https://localhost:8080/"
        },
        "id": "pCyQ-7gi74jJ",
        "outputId": "5d71d14b-20e7-40d2-96e4-73f9bb1ff7e7"
      },
      "execution_count": 47,
      "outputs": [
        {
          "output_type": "stream",
          "name": "stdout",
          "text": [
            "predicted class labels:  [5 1 2 1 1 4 2 2 0 1 1 2 2 2 5 0 0 1 0 0 1 2 1 2 5 2 2 5 1 5 0 0 5 1 1 5 1\n",
            " 1 0 1 2 5 1 1 2 2 1 1 5 0 1 1 1 5 5 1 2 5 1 1 2 1 0 1 1 1 1 2 2 5 5 5 2 1\n",
            " 2 1 4 1 1 5 1 2 5 5 2 3 1 8 1 2 5 0 5 1 1 5 1 2 1 5]\n"
          ]
        }
      ]
    },
    {
      "cell_type": "code",
      "source": [
        "def logistic_loss(X,W,b,y_true):\n",
        "  # print(X)\n",
        "  # print(y_true)\n",
        "  prob_scores = softmax(net_input(X, W, b))\n",
        "  class_ = np.argmax(y_true)\n",
        "  # print(prob_scores)\n",
        "  # print(class_)\n",
        "  numerator = np.exp(prob_scores[0][class_-1])\n",
        "  # print(numerator)\n",
        "  denominator = sum([np.exp(prob_scores[0][x]) for x in range(len(prob_scores[0]))])\n",
        "  # print(denominator)\n",
        "  return -np.log(numerator/denominator)"
      ],
      "metadata": {
        "id": "w2mBrh1J8A5U"
      },
      "execution_count": 63,
      "outputs": []
    },
    {
      "cell_type": "code",
      "source": [
        "logistic_loss(X=X_train[0],W=W,b=b, y_true=y_train_true[0])"
      ],
      "metadata": {
        "colab": {
          "base_uri": "https://localhost:8080/"
        },
        "id": "nRMy8mAK_BJX",
        "outputId": "7b43e8d0-4cc8-48c3-b6fe-db32c5e61475"
      },
      "execution_count": 64,
      "outputs": [
        {
          "output_type": "execute_result",
          "data": {
            "text/plain": [
              "2.37491562302489"
            ]
          },
          "metadata": {},
          "execution_count": 64
        }
      ]
    },
    {
      "cell_type": "code",
      "source": [
        "def loss(X, W, b, y_true):\n",
        "  return np.mean([logistic_loss(X=X_train[i],W=W,b=b, y_true=y_train_true[i]) for i in range(len(X))])"
      ],
      "metadata": {
        "id": "RhPMMjgqAzol"
      },
      "execution_count": 65,
      "outputs": []
    },
    {
      "cell_type": "code",
      "source": [
        "loss(X_train, W, b, y_train_true)"
      ],
      "metadata": {
        "colab": {
          "base_uri": "https://localhost:8080/"
        },
        "id": "Wa4uF7NFBTgB",
        "outputId": "ee9a3e9e-16cf-433c-9f5f-1558d2567d60"
      },
      "execution_count": 66,
      "outputs": [
        {
          "output_type": "execute_result",
          "data": {
            "text/plain": [
              "2.3140300967771785"
            ]
          },
          "metadata": {},
          "execution_count": 66
        }
      ]
    },
    {
      "cell_type": "code",
      "source": [],
      "metadata": {
        "id": "EpQAzY9dBibj"
      },
      "execution_count": null,
      "outputs": []
    }
  ]
}